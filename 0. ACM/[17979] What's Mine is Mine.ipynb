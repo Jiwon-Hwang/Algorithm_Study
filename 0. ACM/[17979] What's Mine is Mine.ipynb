{
 "cells": [
  {
   "cell_type": "markdown",
   "metadata": {},
   "source": [
    "## C++ (solved), Python (time limit exceeded)"
   ]
  },
  {
   "cell_type": "code",
   "execution_count": null,
   "metadata": {
    "scrolled": true
   },
   "outputs": [],
   "source": [
    "# 틀린 논리 ==> 정렬 안된 상태이기 때문에, 전체를 다 탐색 안해준거임! (tmp_s 뒤에 있는 가능한 경우가 최종 max 상태가 아님)\n",
    "x = input()\n",
    "m, n = map(int, x.split())\n",
    "type_price = [0]*100\n",
    "for i in range(m):\n",
    "    type_price[i] = int(input())\n",
    "\n",
    "task_list = [0]*n\n",
    "ore_occurrences = [0]*n\n",
    "for i in range(n):\n",
    "    x = input()\n",
    "    tmp_list = list(map(int, x.split(' '))) # [s, e, t]\n",
    "    ore_occurrences[i] = (tmp_list[1] - tmp_list[0]) * type_price[tmp_list[2]-1]\n",
    "    task_list[i] = tmp_list\n",
    "\n",
    "print('task_list :', task_list)\n",
    "print('ore_occurrences :', ore_occurrences)\n",
    "\n",
    "tmp_max = 0\n",
    "for i in range(n):\n",
    "    tmp = ore_occurrences[i]\n",
    "    j = i+1\n",
    "    e = task_list[i][1]\n",
    "    while j < n:\n",
    "        if e <= task_list[j][0]:\n",
    "            tmp += ore_occurrences[j]\n",
    "            e = task_list[j][1]\n",
    "        j += 1\n",
    "        continue\n",
    "    tmp_max = max(tmp_max, tmp)\n",
    "\n",
    "print(tmp_max)"
   ]
  },
  {
   "cell_type": "code",
   "execution_count": 20,
   "metadata": {},
   "outputs": [
    {
     "name": "stdout",
     "output_type": "stream",
     "text": [
      "5 7\n",
      "1\n",
      "2\n",
      "3\n",
      "4\n",
      "5\n",
      "1 5 2\n",
      "3 8 1\n",
      "2 4 3\n",
      "3 9 2\n",
      "4 10 5\n",
      "7 11 4\n",
      "5 7 3\n",
      "accum_max : [8, 5, 6, 12, 36, 24, 14]\n",
      "36\n"
     ]
    }
   ],
   "source": [
    "# 맞는 논리 but 시간 초과... (c++ 정답과 같은 논리!)\n",
    "x = input()\n",
    "m, n = map(int, x.split())\n",
    "type_price = [0]*m\n",
    "for i in range(m):\n",
    "    type_price[i] = int(input())\n",
    "\n",
    "task_list = [0]*n\n",
    "for i in range(n):\n",
    "    x = input()\n",
    "    tmp_list = list(map(int, x.split(' '))) # [s, e, t]\n",
    "    tmp_list.append((tmp_list[1] - tmp_list[0]) * type_price[tmp_list[2]-1])\n",
    "    task_list[i] = tmp_list\n",
    "# python에서는 어차피 다 구해서 상관없지만, c++에서는 자기보다 아래(j=i-1)만 구하므로\n",
    "# c++에서는 한번 정렬해줘야됨!\n",
    "task_list = sorted(task_list, key = lambda x : x[0])\n",
    "print('sorted task_list + ore_value :', task_list)\n",
    "\n",
    "accum_max = [0]*n\n",
    "for i in range(n):\n",
    "    tmp_s = task_list[i][0]\n",
    "    accum_max[i] = task_list[i][3] + max([accum_max[task_list.index(item)] if item[1] <= tmp_s else 0 for item in task_list])\n",
    "\n",
    "print('accum_max :', accum_max)\n",
    "print(max(accum_max))"
   ]
  },
  {
   "cell_type": "markdown",
   "metadata": {},
   "source": [
    "## C++ Code (Solved)"
   ]
  },
  {
   "cell_type": "markdown",
   "metadata": {},
   "source": [
    "```cpp\n",
    "#define _CRT_SECURE_NO_WARNINGS\n",
    "\n",
    "#include <iostream>\n",
    "#include <vector>\n",
    "#include <algorithm>\n",
    "#include <stack>\n",
    "#include <queue>\n",
    "#include <cstring>\n",
    "#include <string>\n",
    "#include <math.h>\n",
    "#include <tuple>\n",
    "\n",
    "using namespace std;\n",
    "\n",
    "int m, n;\n",
    "int type_price[101]; // 각각 얼마짜리인지 m가지 값 받은거\n",
    "int task_list[10001][3]; // 전체 2차원 배열 입력받은거\n",
    "int accum_max[10001];\n",
    "\n",
    "\n",
    "int main() {\n",
    "    cin >> m >> n;\n",
    "    \n",
    "    for (int i = 0; i < m; i++) {\n",
    "        scanf(\"%d\", &(type_price[i]));\n",
    "    }\n",
    "    \n",
    "    vector<tuple<int, int, int>> tupleVec;\n",
    "\n",
    "    for (int i = 0; i < n; i++) \n",
    "    {\n",
    "        scanf(\"%d %d %d\", &(task_list[i][0]), &(task_list[i][1]), &(task_list[i][2]));\n",
    "        task_list[i][2] = (task_list[i][1] - task_list[i][0])* type_price[task_list[i][2]-1];\n",
    "        tuple <int, int, int> tmp;\n",
    "        tmp = make_tuple(task_list[i][0], task_list[i][1], task_list[i][2]);\n",
    "        cout << \"this is make_tuple : \" << get<0>(tmp) << ' ' << get<1>(tmp) << ' ' << get<2>(tmp) << ' ' << endl;\n",
    "        tupleVec.push_back(tmp);\n",
    "    }\n",
    "    \n",
    "    //일단 s로 정렬 해주기 ==> <tuple>, tie, lambda 이용 (3개 이상의 key로 정렬)\n",
    "\n",
    "    cout << \"before sort\" << endl; // 정렬 전\n",
    "\n",
    "    for (int i = 0; i < n; i++)\n",
    "    {\n",
    "        cout << get<0>(tupleVec[i]) << ' ' << get<1>(tupleVec[i]) << ' ' << get<2>(tupleVec[i]) << ' ' << endl;\n",
    "    }\n",
    "    \n",
    "\n",
    "    sort(begin(tupleVec), end(tupleVec), [](tuple<int, int, int> a, tuple<int, int, int> b) {\n",
    "        return (tie(get<0>(a), get<1>(a), get<2>(a)) < tie(get<0>(b), get<1>(b), get<2>(b)));\n",
    "    });\n",
    "\n",
    "\n",
    "    cout << \"after sort\" << endl; // 정렬 후\n",
    "\n",
    "    for (int i = 0; i < n; i++)\n",
    "    {\n",
    "        cout << get<0>(tupleVec[i]) << ' ' << get<1>(tupleVec[i]) << ' ' << get<2>(tupleVec[i]) << ' ' << endl;\n",
    "    }\n",
    "\n",
    "\n",
    "    // 누적 max들 구해가며 최종 max까지 한번에 구하기\n",
    "    int final_max = 0;\n",
    "    for (int i = 0; i < n; i++) {\n",
    "        int tmp_s = get<0>(tupleVec[i]);\n",
    "        int tmp_max = 0;\n",
    "        for (int j = i-1; j >= 0; j--) {  // tmp_s 이전까지에 다 포함\n",
    "            if (get<1>(tupleVec[j]) <= tmp_s) {\n",
    "                tmp_max = max(tmp_max, accum_max[j]);\n",
    "            }\n",
    "            continue;\n",
    "        }\n",
    "        accum_max[i] = get<2>(tupleVec[i]) + tmp_max;\n",
    "        final_max = max(final_max, accum_max[i]);\n",
    "    }\n",
    "    \n",
    "\n",
    "    /* 각 단계에서의 누적 최댓값들 출력\n",
    "    for (int i = 0; i < n; i++)\n",
    "    {\n",
    "        cout << accum_max[i] << endl;\n",
    "    }\n",
    "    */\n",
    "\n",
    "    cout << final_max << endl;\n",
    "\n",
    "    return 0;\n",
    "}\n",
    "```"
   ]
  },
  {
   "cell_type": "markdown",
   "metadata": {},
   "source": [
    "<hr>"
   ]
  },
  {
   "cell_type": "markdown",
   "metadata": {},
   "source": [
    "Given a list of the prices of m minerals and n ore occurrences during a day, write a program to output the maximum amount of money you can earn from mining on that day.The mineral amount is the appearance time (end time – start time). You can mine an ore right after finishing the previous mining. In other words, one mined-ore’s end time can be same as another mined-ore’s start time.  \n",
    "\n",
    "* input :  \n",
    "2 5  \n",
    "2  \n",
    "3  \n",
    "2 5 1  \n",
    "4 5 2  \n",
    "4 6 1  \n",
    "7 11 2  \n",
    "6 10 1  \n",
    "* output : 18"
   ]
  },
  {
   "cell_type": "markdown",
   "metadata": {},
   "source": [
    "## sol\n",
    "* s(start) 기준으로 모든 행(tuple) sort\n",
    "> **lambda & tie 함수**를 이용해서 **특정 key**로 기준으로 sort (***요소 3개 이상***)  \n",
    "* 각 s마다 돌면서 누적 max값들 구하기 (**accum_max[i]** ==> **final_max**)\n",
    "    * 이 때, s 기준으로 정렬되어있기 때문에 현재 s (tmp_s) 이전의 상황들 중에서만 가능한 상황만 택해 max(tmp_max) 고르면 된다.\n",
    "    * accum_max[i] = get<2>(tupleVec[i]) + tmp_max;"
   ]
  },
  {
   "cell_type": "markdown",
   "metadata": {},
   "source": [
    "<hr>"
   ]
  },
  {
   "cell_type": "markdown",
   "metadata": {},
   "source": [
    "s.split()의 디폴트 : 공백! (공백이 몇 개든 간에)"
   ]
  },
  {
   "cell_type": "code",
   "execution_count": 1,
   "metadata": {},
   "outputs": [
    {
     "name": "stdout",
     "output_type": "stream",
     "text": [
      "1          2\n",
      "1 2\n"
     ]
    }
   ],
   "source": [
    "x = input()\n",
    "m, n = map(int, x.split())\n",
    "print(m,n)"
   ]
  },
  {
   "cell_type": "code",
   "execution_count": 2,
   "metadata": {
    "scrolled": true
   },
   "outputs": [
    {
     "name": "stdout",
     "output_type": "stream",
     "text": [
      "1          ,      2\n",
      "1          ,      2\n",
      "1 2\n"
     ]
    }
   ],
   "source": [
    "x = input()\n",
    "m, n = map(int, x.split(','))\n",
    "print(x)\n",
    "print(m,n)"
   ]
  },
  {
   "cell_type": "code",
   "execution_count": 10,
   "metadata": {},
   "outputs": [
    {
     "name": "stdout",
     "output_type": "stream",
     "text": [
      "[4, 5, 2, 3]\n"
     ]
    }
   ],
   "source": [
    "test = [[2, 5, 1, 6], [4, 5, 2, 3], [4, 6, 1, 4], [6, 10, 1, 8], [7, 11, 2, 12]]\n",
    "print(test[:][:][1])"
   ]
  },
  {
   "cell_type": "code",
   "execution_count": 11,
   "metadata": {
    "scrolled": true
   },
   "outputs": [
    {
     "ename": "ValueError",
     "evalue": "max() arg is an empty sequence",
     "output_type": "error",
     "traceback": [
      "\u001b[1;31m---------------------------------------------------------------------------\u001b[0m",
      "\u001b[1;31mValueError\u001b[0m                                Traceback (most recent call last)",
      "\u001b[1;32m<ipython-input-11-36b5cf70ba9d>\u001b[0m in \u001b[0;36m<module>\u001b[1;34m\u001b[0m\n\u001b[1;32m----> 1\u001b[1;33m \u001b[0mprint\u001b[0m\u001b[1;33m(\u001b[0m\u001b[0mmax\u001b[0m\u001b[1;33m(\u001b[0m\u001b[1;33m[\u001b[0m\u001b[1;33m]\u001b[0m\u001b[1;33m)\u001b[0m\u001b[1;33m)\u001b[0m\u001b[1;33m\u001b[0m\u001b[1;33m\u001b[0m\u001b[0m\n\u001b[0m",
      "\u001b[1;31mValueError\u001b[0m: max() arg is an empty sequence"
     ]
    }
   ],
   "source": [
    "print(max([]))"
   ]
  },
  {
   "cell_type": "code",
   "execution_count": 12,
   "metadata": {},
   "outputs": [],
   "source": [
    "data_list1 = [1,2,3,4,5]"
   ]
  },
  {
   "cell_type": "code",
   "execution_count": 17,
   "metadata": {},
   "outputs": [
    {
     "name": "stdout",
     "output_type": "stream",
     "text": [
      "[1, 3, 5]\n",
      "[0, 0, 0, 0, 0]\n"
     ]
    }
   ],
   "source": [
    "data_list5 = [item for item in data_list1 if item % 2 == 1]\n",
    "data_list6 = [item if item == 6 else 0 for item in data_list1]\n",
    "print(data_list5)\n",
    "print(data_list6)"
   ]
  }
 ],
 "metadata": {
  "kernelspec": {
   "display_name": "Python 3",
   "language": "python",
   "name": "python3"
  },
  "language_info": {
   "codemirror_mode": {
    "name": "ipython",
    "version": 3
   },
   "file_extension": ".py",
   "mimetype": "text/x-python",
   "name": "python",
   "nbconvert_exporter": "python",
   "pygments_lexer": "ipython3",
   "version": "3.7.3"
  }
 },
 "nbformat": 4,
 "nbformat_minor": 2
}
