{
 "cells": [
  {
   "cell_type": "code",
   "execution_count": null,
   "metadata": {},
   "outputs": [],
   "source": [
    "# 정답\n",
    "M, n = list(map(int, input().split()))\n",
    "commands = []\n",
    "[i, j] = [0, 0]\n",
    "dir = [[0,1], [-1,0], [0, -1], [1, 0]] # (동, 남, 서, 북)\n",
    "tmp_idx = 0\n",
    "\n",
    "for _ in range(n):\n",
    "    commands.append(input())\n",
    "\n",
    "check_answer = 1\n",
    "\n",
    "for command in commands:\n",
    "    if i >= M or j >= M or i < 0 or j < 0:\n",
    "        break\n",
    "    else:\n",
    "        if command[0] == 'M':\n",
    "            i += dir[tmp_idx][1]*int(command[5:])\n",
    "            j += dir[tmp_idx][0]*int(command[5:])\n",
    "        elif command[5] == '0':\n",
    "            tmp_idx = (tmp_idx + 4 - 1) % 4\n",
    "        elif command[5] == '1':\n",
    "            tmp_idx = (tmp_idx + 1) % 4\n",
    "\n",
    "if check_answer == -1 or i >= M or j >= M or i < 0 or j < 0:\n",
    "    print(-1)\n",
    "else : \n",
    "    print(i, j)\n"
   ]
  },
  {
   "cell_type": "code",
   "execution_count": 5,
   "metadata": {},
   "outputs": [
    {
     "name": "stdout",
     "output_type": "stream",
     "text": [
      "11 14\n",
      "MOVE 10\n",
      "TURN 0\n",
      "MOVE 2\n",
      "TURN 0\n",
      "MOVE 5\n",
      "TURN 1\n",
      "MOVE 5\n",
      "TURN 1\n",
      "MOVE 2\n",
      "TURN 1\n",
      "MOVE 3\n",
      "TURN 0\n",
      "TURN 0\n",
      "MOVE 6\n",
      "[13, 0]\n",
      "-1\n",
      "13   0\n"
     ]
    }
   ],
   "source": [
    "M, n = list(map(int, input().split()))\n",
    "commands = []\n",
    "[i, j] = [M-1, 0]\n",
    "dir = [[0,1], [-1,0], [0, -1], [1, 0]] # (동, 남, 서, 북)\n",
    "tmp_idx = 0\n",
    "\n",
    "for _ in range(n):\n",
    "    commands.append(input())\n",
    "\n",
    "answer = []    \n",
    "    \n",
    "for command in commands:\n",
    "    print([i, j])\n",
    "    if i >= M or j >= M:\n",
    "        answer.append(-1) #\n",
    "        break\n",
    "    if command[0] == 'M':\n",
    "        i += dir[tmp_idx][0]*int(command[5:])\n",
    "        j += dir[tmp_idx][1]*int(command[5:])\n",
    "    elif command[5] == '0':\n",
    "        tmp_idx = (tmp_idx + 4 - 1) % 4\n",
    "    else:\n",
    "        tmp_idx = (tmp_idx + 1) % 4\n",
    "        \n",
    "\n",
    "#print(i, ' ', j)"
   ]
  }
 ],
 "metadata": {
  "kernelspec": {
   "display_name": "Python 3",
   "language": "python",
   "name": "python3"
  },
  "language_info": {
   "codemirror_mode": {
    "name": "ipython",
    "version": 3
   },
   "file_extension": ".py",
   "mimetype": "text/x-python",
   "name": "python",
   "nbconvert_exporter": "python",
   "pygments_lexer": "ipython3",
   "version": "3.7.3"
  }
 },
 "nbformat": 4,
 "nbformat_minor": 2
}
