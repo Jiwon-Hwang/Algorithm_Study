{
 "cells": [
  {
   "cell_type": "code",
   "execution_count": 2,
   "metadata": {
    "scrolled": true
   },
   "outputs": [
    {
     "name": "stdout",
     "output_type": "stream",
     "text": [
      "2 5\n",
      "2\n",
      "3\n",
      "2 5 1\n",
      "4 5 2\n",
      "4 6 1\n",
      "7 11 2\n",
      "6 10 1\n",
      "task_list : [[2, 5, 1], [4, 5, 2], [4, 6, 1], [7, 11, 2], [6, 10, 1]]\n",
      "ore_occurrences : [6, 3, 4, 12, 8]\n",
      "18\n"
     ]
    }
   ],
   "source": [
    "x = input()\n",
    "m, n = map(int, x.split(' '))\n",
    "type_price = [0]*m\n",
    "for i in range(m):\n",
    "    type_price[i] = int(input())\n",
    "\n",
    "task_list = [0]*n\n",
    "ore_occurrences = [0]*n\n",
    "for i in range(n):\n",
    "    x = input()\n",
    "    tmp_list = list(map(int, x.split(' '))) # [s, e, t]\n",
    "    ore_occurrences[i] = (tmp_list[1] - tmp_list[0]) * type_price[tmp_list[2]-1]\n",
    "    task_list[i] = tmp_list\n",
    "\n",
    "print('task_list :', task_list)\n",
    "print('ore_occurrences :', ore_occurrences)\n",
    "\n",
    "tmp_max = 0\n",
    "for i in range(n):\n",
    "    tmp = ore_occurrences[i]\n",
    "    j = i+1\n",
    "    e = task_list[i][1]\n",
    "    while j < n:\n",
    "        if e <= task_list[j][0]:\n",
    "            tmp += ore_occurrences[j]\n",
    "            e = task_list[j][1]\n",
    "        j += 1\n",
    "        continue\n",
    "    tmp_max = max(tmp_max, tmp)\n",
    "\n",
    "print(tmp_max)"
   ]
  },
  {
   "cell_type": "markdown",
   "metadata": {},
   "source": [
    "### C++ Code"
   ]
  },
  {
   "cell_type": "markdown",
   "metadata": {},
   "source": [
    "```cpp\n",
    "#include <iostream>\n",
    "\n",
    "using namespace std;\n",
    "\n",
    "int m, n;\n",
    "int type_price[101]; // 각각 얼마짜리인지 m가지 값 받은거\n",
    "int task_list[10001][3]; // 전체 2차원 배열 입력받은거\n",
    "int ore_occurrences[10001]; // 일단 다 값 더해놓은거 (각 상황)\n",
    "\n",
    "\n",
    "int main() {\n",
    "    cin >> m >> n;\n",
    "    \n",
    "    for (int i = 0; i < m; i++) {\n",
    "        scanf(\"%d\", &(type_price[i]));\n",
    "    }\n",
    "    \n",
    "    for (int i = 0; i < n; i++) \n",
    "    {\n",
    "        scanf(\"%d %d %d\", &(task_list[i][0]), &(task_list[i][1]), &(task_list[i][2]));\n",
    "        ore_occurrences[i] = (task_list[i][1] - task_list[i][0])* type_price[task_list[i][2]-1];\n",
    "    }\n",
    "\n",
    "    int tmp_max = 0;\n",
    "    int tmp, j, e;\n",
    "    for (int i = 0; i < n; i++) {\n",
    "        tmp = ore_occurrences[i];\n",
    "        j = i + 1;\n",
    "        e = task_list[i][1];\n",
    "        while (j < n) {\n",
    "            if (e <= task_list[j][0]) {\n",
    "                tmp += ore_occurrences[j];\n",
    "                e = task_list[j][1];\n",
    "            }\n",
    "            j++;\n",
    "            continue;\n",
    "        }\n",
    "        tmp_max = tmp_max > tmp ? tmp_max : tmp;\n",
    "\n",
    "    }\n",
    "    \n",
    "    cout << tmp_max << endl;\n",
    "\n",
    "    return 0;\n",
    "}\n",
    "```"
   ]
  },
  {
   "cell_type": "markdown",
   "metadata": {},
   "source": [
    "<hr>"
   ]
  },
  {
   "cell_type": "markdown",
   "metadata": {},
   "source": [
    "Given a list of the prices of m minerals and n ore occurrences during a day, write a program to output the maximum amount of money you can earn from mining on that day.The mineral amount is the appearance time (end time – start time). You can mine an ore right after finishing the previous mining. In other words, one mined-ore’s end time can be same as another mined-ore’s start time.  \n",
    "\n",
    "* input :  \n",
    "2 5  \n",
    "2  \n",
    "3  \n",
    "2 5 1  \n",
    "4 5 2  \n",
    "4 6 1  \n",
    "7 11 2  \n",
    "6 10 1  \n",
    "* output : 18"
   ]
  },
  {
   "cell_type": "markdown",
   "metadata": {},
   "source": [
    "## sol\n",
    "* 모든 경우 2중 for문으로 탐색하며 max값 갱신"
   ]
  }
 ],
 "metadata": {
  "kernelspec": {
   "display_name": "Python 3",
   "language": "python",
   "name": "python3"
  },
  "language_info": {
   "codemirror_mode": {
    "name": "ipython",
    "version": 3
   },
   "file_extension": ".py",
   "mimetype": "text/x-python",
   "name": "python",
   "nbconvert_exporter": "python",
   "pygments_lexer": "ipython3",
   "version": "3.7.3"
  }
 },
 "nbformat": 4,
 "nbformat_minor": 2
}
