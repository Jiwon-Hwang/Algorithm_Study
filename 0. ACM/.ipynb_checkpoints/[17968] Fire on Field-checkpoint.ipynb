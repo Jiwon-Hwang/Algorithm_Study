{
 "cells": [
  {
   "cell_type": "code",
   "execution_count": 6,
   "metadata": {
    "scrolled": true
   },
   "outputs": [
    {
     "name": "stdout",
     "output_type": "stream",
     "text": [
      "100\n",
      "4\n"
     ]
    }
   ],
   "source": [
    "A = [1, 1]\n",
    "n = int(input())\n",
    "for i in range(2, n+1):\n",
    "    tmp_Ai = 1\n",
    "    k = 1\n",
    "    while i - 2*k >= 0: # 모든 k 확인 용\n",
    "        if tmp_Ai - A[i-k] != A[i-k] - A[i-k*2]:\n",
    "            k += 1\n",
    "            continue\n",
    "        tmp_Ai += 1\n",
    "        k = 1\n",
    "        continue\n",
    "    A.append(tmp_Ai)\n",
    "\n",
    "print(A[n])"
   ]
  },
  {
   "cell_type": "markdown",
   "metadata": {},
   "source": [
    "<hr>"
   ]
  },
  {
   "cell_type": "markdown",
   "metadata": {},
   "source": [
    "Let A[0] = 1, A[1] = 1. For a positive integer i ≥ 2, A[i] is the smallest positive integer under the condition that no three terms A[i − 2k], A[i − k], and A[i] form an arithmetic progression for any integer k > 0 such that i − 2k ≥ 0, that is, A[i] − A[i − k] ≠ A[i − k] − A[i − 2k].\n",
    "\n",
    "* input : 5\n",
    "* output : 2"
   ]
  },
  {
   "cell_type": "markdown",
   "metadata": {},
   "source": [
    "## sol\n",
    "* A[i]의 값(tmp_Ai)을 하나씩 늘려가는데, 한 tmp_Ai당 모든 가능한 k에 대해 만족하는 지 가능성을 다 확인해본다. (tmp_Ai - A[i-k] != A[i-k] - A[i-k * 2])  \n",
    "* 도중에 k가 하나라도 조건을 만족하지 않으면, 바로 다음 tmp_Ai로 넘어간다.  \n",
    "* 모든 k에 대해 조건을 만족하면, 그 때의 tmp_Ai를 배열 A 뒤에 추가해준다."
   ]
  }
 ],
 "metadata": {
  "kernelspec": {
   "display_name": "Python 3",
   "language": "python",
   "name": "python3"
  }
 },
 "nbformat": 4,
 "nbformat_minor": 2
}
