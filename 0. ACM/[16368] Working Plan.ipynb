{
 "cells": [
  {
   "cell_type": "code",
   "execution_count": 4,
   "metadata": {},
   "outputs": [
    {
     "name": "stdout",
     "output_type": "stream",
     "text": [
      "4 9 2 1\n",
      "4 4 6 2\n",
      "1 3 2 1 2 1 1 3 2\n",
      "[4, 4, 6, 2]\n"
     ]
    }
   ],
   "source": [
    "m, n, w, h = map(int, input().split())\n",
    "wi = list(map(int, input().split()))\n",
    "dj = list(map(int, input().split()))\n",
    "\n"
   ]
  },
  {
   "cell_type": "markdown",
   "metadata": {},
   "source": [
    "<hr>"
   ]
  },
  {
   "cell_type": "markdown",
   "metadata": {},
   "source": [
    "If there is a feasible working plan, print 1 in the first line followed by m lines, each i-th (1 ≤ i ≤ m) line should contain wi/w integers. These integers form an increasing sequence of first days that person i works in the feasible plan. If there is no feasible working plan, print only -1 in the first line.  \n",
    "* input :  \n",
    "4 9 2 1  \n",
    "4 4 6 2  \n",
    "1 3 2 1 2 1 1 3 2  \n",
    "* output :  \n",
    "1  \n",
    "1 8  \n",
    "2 7   \n",
    "2 5 8  \n",
    "4  "
   ]
  }
 ],
 "metadata": {
  "kernelspec": {
   "display_name": "Python 3",
   "language": "python",
   "name": "python3"
  },
  "language_info": {
   "codemirror_mode": {
    "name": "ipython",
    "version": 3
   },
   "file_extension": ".py",
   "mimetype": "text/x-python",
   "name": "python",
   "nbconvert_exporter": "python",
   "pygments_lexer": "ipython3",
   "version": "3.7.3"
  }
 },
 "nbformat": 4,
 "nbformat_minor": 2
}
