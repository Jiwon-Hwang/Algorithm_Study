{
 "cells": [
  {
   "cell_type": "code",
   "execution_count": 6,
   "metadata": {},
   "outputs": [
    {
     "name": "stdout",
     "output_type": "stream",
     "text": [
      "100\n",
      "4\n"
     ]
    }
   ],
   "source": [
    "A = [1, 1]\n",
    "n = int(input())\n",
    "for i in range(2, n+1):\n",
    "    tmp_Ai = 1\n",
    "    k = 1\n",
    "    while i - 2*k >= 0: # 모든 k 확인 용\n",
    "        #print(tmp_Ai, A[i-k], A[i-k*2])\n",
    "        if tmp_Ai - A[i-k] != A[i-k] - A[i-k*2]:\n",
    "            k += 1\n",
    "            continue\n",
    "        tmp_Ai += 1\n",
    "        k = 1\n",
    "        continue\n",
    "    A.append(tmp_Ai)\n",
    "\n",
    "print(A[n])"
   ]
  }
 ],
 "metadata": {
  "kernelspec": {
   "display_name": "Python 3",
   "language": "python",
   "name": "python3"
  }
 },
 "nbformat": 4,
 "nbformat_minor": 2
}
